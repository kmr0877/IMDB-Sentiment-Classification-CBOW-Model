{
 "cells": [
  {
   "cell_type": "code",
   "execution_count": null,
   "metadata": {
    "collapsed": true
   },
   "outputs": [],
   "source": [
    "from __future__ import absolute_import\n",
    "from __future__ import division\n",
    "from __future__ import print_function\n",
    "\n",
    "import math\n",
    "import random\n",
    "import glob\n",
    "\n",
    "import numpy as np\n",
    "import tensorflow as tf\n",
    "from word2vec_fns import generate_batch, get_mean_context_embeds"
   ]
  },
  {
   "cell_type": "code",
   "execution_count": null,
   "metadata": {
    "collapsed": true
   },
   "outputs": [],
   "source": [
    "def read_and_clean_data(path):\n",
    "\n",
    "    with open(path,\"r\") as o:\n",
    "        text = o.read()\n",
    "        punc_rem = text.translate(None, punctuation)\n",
    "        lower_words = map(lambda x: x.lower(),punc_rem.split())\n",
    "\n",
    "    return lower_words\n"
   ]
  },
  {
   "cell_type": "code",
   "execution_count": null,
   "metadata": {},
   "outputs": [],
   "source": [
    "corpus = []\n",
    "count = []\n",
    "words = []\n",
    "folders = [ \"pos\", \"neg\"]\n",
    "for folder in folders:\n",
    "    for path in glob.glob(folder + \"/*.txt\"):\n",
    "\n",
    "        words += read_and_clean_data(path)\n",
    "        if len(words)> vocabulary_size*3:\n",
    "            break\n",
    "    else:\n",
    "        continue\n",
    "    break"
   ]
  }
 ],
 "metadata": {
  "kernelspec": {
   "display_name": "Python 3",
   "language": "python",
   "name": "python3"
  },
  "language_info": {
   "codemirror_mode": {
    "name": "ipython",
    "version": 3
   },
   "file_extension": ".py",
   "mimetype": "text/x-python",
   "name": "python",
   "nbconvert_exporter": "python",
   "pygments_lexer": "ipython3",
   "version": "3.5.4"
  }
 },
 "nbformat": 4,
 "nbformat_minor": 2
}
